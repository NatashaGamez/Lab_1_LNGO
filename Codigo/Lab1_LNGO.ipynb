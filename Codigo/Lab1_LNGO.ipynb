{
 "cells": [
  {
   "cell_type": "markdown",
   "metadata": {},
   "source": [
    "<img src=\"http://oci02.img.iteso.mx/identidad_de_instancia_2018/ITESO/Logos%20ITESO/Logo-ITESO-Principal.jpg\">"
   ]
  },
  {
   "cell_type": "markdown",
   "metadata": {},
   "source": [
    "<center> <font color= #004A94> <font size = 6> Lic. Ingeniería Financiera </font> <br> <br> <font color= #047CFB> <font size = 4>I.F. Lidia Natasha Gamez Ortiz - if709031@iteso.mx </font>"
   ]
  },
  {
   "cell_type": "markdown",
   "metadata": {},
   "source": [
    "<center><font color= #004A94> <font size = 6> Microestructura y Sistemas de Trading </font> <br> <br>"
   ]
  },
  {
   "cell_type": "markdown",
   "metadata": {},
   "source": [
    "<center><font color=#42c29b><font size=5> Laboratorio 1: Trading en Forex </font> <br> <br>"
   ]
  },
  {
   "cell_type": "markdown",
   "metadata": {},
   "source": [
    "<center> <font color= #047CFB> <font size = 4> Primavera 2020 </font>  |  <font color= #047CFB> <font size = 4> Repositorio: <a href='https://github.com/NatashaGamez/Lab_1_LNGO'>Link</a></font>"
   ]
  },
  {
   "cell_type": "markdown",
   "metadata": {},
   "source": [
    "# Resumen"
   ]
  },
  {
   "cell_type": "markdown",
   "metadata": {},
   "source": [
    "Para este laboratorio generare un código que dé señales de que posición tomar (compra o venta) y cuando entrar y salir de la posición. Como en la primera semana para realizar trading utilice análisis técnico, para desarrollar el código utilizaré los mismos indicadores, los cuales son Bandas de Bollinger, MACD y RSI, así mismo utilizaré el conteo de velas."
   ]
  },
  {
   "cell_type": "markdown",
   "metadata": {},
   "source": [
    "# Codigo"
   ]
  },
  {
   "cell_type": "code",
   "execution_count": 1,
   "metadata": {},
   "outputs": [],
   "source": [
    "import funciones as fn                              # Para procesamiento de datos\n",
    "import visualizaciones as vs                        # Para visualizacion de datos\n",
    "import pandas as pd                                 # Procesamiento de datos\n",
    "from datos import OA_Ak   "
   ]
  },
  {
   "cell_type": "code",
   "execution_count": null,
   "metadata": {},
   "outputs": [],
   "source": [
    "# -- --------------------------------------------------------- Descargar precios de OANDA -- #\n",
    "\n",
    "# token de OANDA\n",
    "OA_In = \"GBP_NZD\"                  # Instrumento\n",
    "OA_Gn = \"H1\"                        # Granularidad de velas\n",
    "fini = pd.to_datetime(\"2019-11-06 00:00:00\").tz_localize('GMT')  # Fecha inicial\n",
    "ffin = pd.to_datetime(\"2019-12-06 00:00:00\").tz_localize('GMT')  # Fecha final\n",
    "\n",
    "# Descargar precios masivos\n",
    "df_pe = fn.f_precios_masivos(p0_fini=fini, p1_ffin=ffin, p2_gran=OA_Gn,\n",
    "                             p3_inst=OA_In, p4_oatk=OA_Ak, p5_ginc=4900)\n",
    "# multiplicador de precios\n",
    "pip_mult = 10000"
   ]
  },
  {
   "cell_type": "code",
   "execution_count": null,
   "metadata": {},
   "outputs": [],
   "source": []
  },
  {
   "cell_type": "code",
   "execution_count": null,
   "metadata": {},
   "outputs": [],
   "source": []
  },
  {
   "cell_type": "code",
   "execution_count": null,
   "metadata": {},
   "outputs": [],
   "source": []
  },
  {
   "cell_type": "code",
   "execution_count": null,
   "metadata": {},
   "outputs": [],
   "source": []
  }
 ],
 "metadata": {
  "kernelspec": {
   "display_name": "Python 3",
   "language": "python",
   "name": "python3"
  },
  "language_info": {
   "codemirror_mode": {
    "name": "ipython",
    "version": 3
   },
   "file_extension": ".py",
   "mimetype": "text/x-python",
   "name": "python",
   "nbconvert_exporter": "python",
   "pygments_lexer": "ipython3",
   "version": "3.7.1"
  }
 },
 "nbformat": 4,
 "nbformat_minor": 2
}
